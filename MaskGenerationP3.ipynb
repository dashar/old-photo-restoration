{
 "cells": [
  {
   "cell_type": "code",
   "execution_count": 2,
   "metadata": {
    "collapsed": false
   },
   "outputs": [
    {
     "name": "stdout",
     "output_type": "stream",
     "text": [
      "The autoreload extension is already loaded. To reload it, use:\n",
      "  %reload_ext autoreload\n",
      "max value 252\n",
      "mask.shape (720, 480)\n",
      "mask_4.max 252\n"
     ]
    },
    {
     "data": {
      "text/plain": [
       "<matplotlib.image.AxesImage at 0x7f48a8edbf60>"
      ]
     },
     "execution_count": 2,
     "metadata": {},
     "output_type": "execute_result"
    },
    {
     "data": {
      "image/png": "[encoded data removed]",
      "text/plain": [
       "<matplotlib.figure.Figure at 0x7f48ac8a2ef0>"
      ]
     },
     "metadata": {
      "needs_background": "light"
     },
     "output_type": "display_data"
    }
   ],
   "source": [
    "import cv2\n",
    "import numpy as np\n",
    "from matplotlib import pyplot as plt\n",
    "from copy import deepcopy\n",
    "from PIL import Image\n",
    "from os import listdir\n",
    "import math as m\n",
    "\n",
    "from util.generateMask3 import generateMasks\n",
    "\n",
    "%load_ext autoreload\n",
    "%autoreload 2\n",
    "\n",
    "# SETTINGS\n",
    "SAMPLE_IMAGE = 'data/test_images/18.jpg'\n",
    "\n",
    "m4 = generateMasks(SAMPLE_IMAGE)\n",
    "plt.imshow(m4*255)"
   ]
  },
  {
   "cell_type": "code",
   "execution_count": 2,
   "metadata": {
    "collapsed": false
   },
   "outputs": [
    {
     "name": "stdout",
     "output_type": "stream",
     "text": [
      "max value 255\n",
      "mask.shape (500, 334)\n"
     ]
    }
   ],
   "source": [
    "## for testing different parameters and dimensions\n",
    "img = cv2.imread('data/test_images/2.jpg', cv2.IMREAD_GRAYSCALE)\n",
    "maxVal= np.max(img)\n",
    "print(\"max value \"+ str(np.max(img)))\n",
    "threshold = 0.85 * maxVal\n",
    "ret, mask = cv2.threshold(img, threshold, 255, cv2.THRESH_TOZERO)\n",
    "print(\"mask.shape \" + str(mask.shape))\n",
    "\n",
    "width, height = mask.shape\n",
    "mask_bin = mask>200\n",
    "count = 0\n",
    "ind = [0 for i in range(width*height)]\n",
    "for i in range(width):\n",
    "    for j in range(height):\n",
    "        if(mask_bin[i][j] == True):\n",
    "            ind[count] = (j)*width + i\n",
    "            count = count + 1\n",
    "##end of for\n",
    "sal = ind[0:count-1]\n",
    "np.random.shuffle(sal)\n"
   ]
  },
  {
   "cell_type": "code",
   "execution_count": 3,
   "metadata": {
    "collapsed": false
   },
   "outputs": [
    {
     "data": {
      "text/plain": [
       "array([[117, 102, 110, ..., 136, 136, 136],\n",
       "       [147, 126, 113, ..., 132, 132, 132],\n",
       "       [238, 194, 137, ..., 130, 131, 131],\n",
       "       ...,\n",
       "       [231, 227, 224, ..., 151, 154, 157],\n",
       "       [234, 230, 227, ..., 155, 158, 161],\n",
       "       [ 85,  80,  77, ..., 157, 160, 164]], dtype=uint8)"
      ]
     },
     "execution_count": 3,
     "metadata": {},
     "output_type": "execute_result"
    }
   ],
   "source": [
    "img"
   ]
  },
  {
   "cell_type": "code",
   "execution_count": 18,
   "metadata": {
    "collapsed": false
   },
   "outputs": [],
   "source": [
    "mask_1 = mask_bin < 0\n",
    "for i in range(int(m.floor((count-1)/3))):\n",
    "    val = sal[i]\n",
    "    row = m.floor(val/width)\n",
    "    col = val - (row * width)\n",
    "    mask_1[int(m.floor(col))][int(m.floor(row))] = 255\n",
    "    mask_1 = mask_1.astype(np.uint8)\n"
   ]
  },
  {
   "cell_type": "code",
   "execution_count": null,
   "metadata": {
    "collapsed": true
   },
   "outputs": [],
   "source": [
    " mask_2 = mask_bin <0\n",
    "    for i in range(int(m.floor((count-1)/3+1)), int(m.floor(2*(count-1)/3))):\n",
    "        val = sal[i]\n",
    "        row = val/width\n",
    "        col = val - (row * width)\n",
    "        mask_2[int(m.floor(col))][int(m.floor(row))] = True\n",
    "    mask_2 = mask_2.astype(np.uint8)\n",
    "    #cv2.imwrite('data/mask/mask_2.jpg', mask_2)\n",
    "    #plt.savefig('img_{}_mask2.jpg'.format(1))\n",
    "    mask_3 = mask_bin <0\n",
    "    for i in range(int(m.floor(2*(count-1)/3+1)), int(m.floor((count-1)/1))):\n",
    "        val = sal[i]\n",
    "        row = val/width\n",
    "        col = val - (row * width)\n",
    "        mask_3[int(m.floor(col))][int(m.floor(row))] = True\n",
    "    mask_3 = mask_3.astype(np.uint8)\n",
    "    #cv2.imwrite('data/mask/mask_3.jpg', mask_3)\n",
    "    #plt.savefig('img_{}_mask3.png'.format(1))\n",
    "    mask_4 = 1 - (mask_1 | mask_2 | mask_3)\n",
    "    cv2.imwrite('data/mask_test_images/temp.jpg', mask_4)\n",
    "    mask_4 = cv2.imread('data/mask_test_images/temp.jpg', cv2.IMREAD_COLOR)\n",
    "    #cv2.imwrite('data/mask/mask_4_rgb.jpg', mask_4)\n",
    "    print(\"mask_4.max \"+ str(mask.max()))\n",
    "    mask1 = cv2.resize(mask_4, dsize=(256, 256), interpolation=cv2.INTER_CUBIC)\n",
    "  "
   ]
  },
  {
   "cell_type": "code",
   "execution_count": 11,
   "metadata": {
    "collapsed": false
   },
   "outputs": [
    {
     "name": "stdout",
     "output_type": "stream",
     "text": [
      "max value 255\n",
      "mask.shape (386, 384)\n",
      "mask_4.max 255\n"
     ]
    },
    {
     "data": {
      "text/plain": [
       "<matplotlib.image.AxesImage at 0x7f50effa90b8>"
      ]
     },
     "execution_count": 11,
     "metadata": {},
     "output_type": "execute_result"
    },
    {
     "data": {
      "image/png": "[encoded data removed]",
      "text/plain": [
       "<matplotlib.figure.Figure at 0x7f50f4c94208>"
      ]
     },
     "metadata": {
      "needs_background": "light"
     },
     "output_type": "display_data"
    }
   ],
   "source": [
    "tempimg = 'data/testimgbad.jpg'\n",
    "m4 = generateMasks(tempimg)\n",
    "plt.imshow(m4*255)"
   ]
  },
  {
   "cell_type": "code",
   "execution_count": null,
   "metadata": {
    "collapsed": true
   },
   "outputs": [],
   "source": []
  }
 ],
 "metadata": {
  "kernelspec": {
   "display_name": "Python 3",
   "language": "python",
   "name": "python3"
  },
  "language_info": {
   "codemirror_mode": {
    "name": "ipython",
    "version": 3
   },
   "file_extension": ".py",
   "mimetype": "text/x-python",
   "name": "python",
   "nbconvert_exporter": "python",
   "pygments_lexer": "ipython3",
   "version": "3.6.0"
  }
 },
 "nbformat": 4,
 "nbformat_minor": 2
}
